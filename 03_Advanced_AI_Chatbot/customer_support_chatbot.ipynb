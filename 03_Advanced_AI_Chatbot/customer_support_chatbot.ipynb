{
 "cells": [
  {
   "cell_type": "code",
   "execution_count": 1,
   "id": "78b46e87-6d5c-4d14-9bb9-3e5932797801",
   "metadata": {},
   "outputs": [],
   "source": [
    "import os\n",
    "from dotenv import load_dotenv\n",
    "import pandas as pd"
   ]
  },
  {
   "cell_type": "code",
   "execution_count": 2,
   "id": "018b3c04-7097-4b11-894f-279889664e65",
   "metadata": {},
   "outputs": [
    {
     "name": "stdout",
     "output_type": "stream",
     "text": [
      "loaded succesfully\n"
     ]
    }
   ],
   "source": [
    "load_dotenv()\n",
    "gemini_api_key =os.getenv(\"GEMINI_API_KEY\")\n",
    "print('loaded succesfully')"
   ]
  },
  {
   "cell_type": "code",
   "execution_count": 3,
   "id": "e873c3d6-870c-4702-9cd2-c5befe302429",
   "metadata": {},
   "outputs": [
    {
     "data": {
      "text/html": [
       "<div>\n",
       "<style scoped>\n",
       "    .dataframe tbody tr th:only-of-type {\n",
       "        vertical-align: middle;\n",
       "    }\n",
       "\n",
       "    .dataframe tbody tr th {\n",
       "        vertical-align: top;\n",
       "    }\n",
       "\n",
       "    .dataframe thead th {\n",
       "        text-align: right;\n",
       "    }\n",
       "</style>\n",
       "<table border=\"1\" class=\"dataframe\">\n",
       "  <thead>\n",
       "    <tr style=\"text-align: right;\">\n",
       "      <th></th>\n",
       "      <th>tweet_id</th>\n",
       "      <th>author_id</th>\n",
       "      <th>inbound</th>\n",
       "      <th>created_at</th>\n",
       "      <th>text</th>\n",
       "      <th>response_tweet_id</th>\n",
       "      <th>in_response_to_tweet_id</th>\n",
       "    </tr>\n",
       "  </thead>\n",
       "  <tbody>\n",
       "    <tr>\n",
       "      <th>2811769</th>\n",
       "      <td>2987947</td>\n",
       "      <td>sprintcare</td>\n",
       "      <td>False</td>\n",
       "      <td>Wed Nov 22 08:43:51 +0000 2017</td>\n",
       "      <td>@823869 Hey, we'd be happy to look into this f...</td>\n",
       "      <td>NaN</td>\n",
       "      <td>2987948.0</td>\n",
       "    </tr>\n",
       "    <tr>\n",
       "      <th>2811770</th>\n",
       "      <td>2987948</td>\n",
       "      <td>823869</td>\n",
       "      <td>True</td>\n",
       "      <td>Wed Nov 22 08:35:16 +0000 2017</td>\n",
       "      <td>@115714 wtf!? I’ve been having really shitty s...</td>\n",
       "      <td>2987947</td>\n",
       "      <td>NaN</td>\n",
       "    </tr>\n",
       "    <tr>\n",
       "      <th>2811771</th>\n",
       "      <td>2812240</td>\n",
       "      <td>121673</td>\n",
       "      <td>True</td>\n",
       "      <td>Thu Nov 23 04:13:07 +0000 2017</td>\n",
       "      <td>@143549 @sprintcare You have to go to https://...</td>\n",
       "      <td>NaN</td>\n",
       "      <td>2812239.0</td>\n",
       "    </tr>\n",
       "    <tr>\n",
       "      <th>2811772</th>\n",
       "      <td>2987949</td>\n",
       "      <td>AldiUK</td>\n",
       "      <td>False</td>\n",
       "      <td>Wed Nov 22 08:31:24 +0000 2017</td>\n",
       "      <td>@823870 Sounds delicious, Sarah! 😋 https://t.c...</td>\n",
       "      <td>NaN</td>\n",
       "      <td>2987950.0</td>\n",
       "    </tr>\n",
       "    <tr>\n",
       "      <th>2811773</th>\n",
       "      <td>2987950</td>\n",
       "      <td>823870</td>\n",
       "      <td>True</td>\n",
       "      <td>Tue Nov 21 22:01:04 +0000 2017</td>\n",
       "      <td>@AldiUK  warm sloe gin mince pies with ice cre...</td>\n",
       "      <td>2987951,2987949</td>\n",
       "      <td>NaN</td>\n",
       "    </tr>\n",
       "  </tbody>\n",
       "</table>\n",
       "</div>"
      ],
      "text/plain": [
       "         tweet_id   author_id  inbound                      created_at  \\\n",
       "2811769   2987947  sprintcare    False  Wed Nov 22 08:43:51 +0000 2017   \n",
       "2811770   2987948      823869     True  Wed Nov 22 08:35:16 +0000 2017   \n",
       "2811771   2812240      121673     True  Thu Nov 23 04:13:07 +0000 2017   \n",
       "2811772   2987949      AldiUK    False  Wed Nov 22 08:31:24 +0000 2017   \n",
       "2811773   2987950      823870     True  Tue Nov 21 22:01:04 +0000 2017   \n",
       "\n",
       "                                                      text response_tweet_id  \\\n",
       "2811769  @823869 Hey, we'd be happy to look into this f...               NaN   \n",
       "2811770  @115714 wtf!? I’ve been having really shitty s...           2987947   \n",
       "2811771  @143549 @sprintcare You have to go to https://...               NaN   \n",
       "2811772  @823870 Sounds delicious, Sarah! 😋 https://t.c...               NaN   \n",
       "2811773  @AldiUK  warm sloe gin mince pies with ice cre...   2987951,2987949   \n",
       "\n",
       "         in_response_to_tweet_id  \n",
       "2811769                2987948.0  \n",
       "2811770                      NaN  \n",
       "2811771                2812239.0  \n",
       "2811772                2987950.0  \n",
       "2811773                      NaN  "
      ]
     },
     "execution_count": 3,
     "metadata": {},
     "output_type": "execute_result"
    }
   ],
   "source": [
    "df= pd.read_csv(\"twcs.csv\")\n",
    "df.tail()"
   ]
  },
  {
   "cell_type": "code",
   "execution_count": 4,
   "id": "00746197-3055-4c89-a2e8-cfcd44c6e965",
   "metadata": {},
   "outputs": [
    {
     "name": "stdout",
     "output_type": "stream",
     "text": [
      "<class 'pandas.core.frame.DataFrame'>\n",
      "RangeIndex: 2811774 entries, 0 to 2811773\n",
      "Data columns (total 7 columns):\n",
      " #   Column                   Dtype  \n",
      "---  ------                   -----  \n",
      " 0   tweet_id                 int64  \n",
      " 1   author_id                object \n",
      " 2   inbound                  bool   \n",
      " 3   created_at               object \n",
      " 4   text                     object \n",
      " 5   response_tweet_id        object \n",
      " 6   in_response_to_tweet_id  float64\n",
      "dtypes: bool(1), float64(1), int64(1), object(4)\n",
      "memory usage: 131.4+ MB\n"
     ]
    }
   ],
   "source": [
    "df.info()"
   ]
  },
  {
   "cell_type": "code",
   "execution_count": 5,
   "id": "17efc920-0aea-40d1-888a-0714a01bf780",
   "metadata": {},
   "outputs": [
    {
     "data": {
      "text/plain": [
       "tweet_id                         0\n",
       "author_id                        0\n",
       "inbound                          0\n",
       "created_at                       0\n",
       "text                             0\n",
       "response_tweet_id          1040629\n",
       "in_response_to_tweet_id     794335\n",
       "dtype: int64"
      ]
     },
     "execution_count": 5,
     "metadata": {},
     "output_type": "execute_result"
    }
   ],
   "source": [
    "df.isnull().sum()"
   ]
  },
  {
   "cell_type": "code",
   "execution_count": 6,
   "id": "aeb8340a-26ee-4f43-909d-33b8ed99f9a5",
   "metadata": {},
   "outputs": [
    {
     "data": {
      "text/plain": [
       "(2811774, 7)"
      ]
     },
     "execution_count": 6,
     "metadata": {},
     "output_type": "execute_result"
    }
   ],
   "source": [
    "df.shape"
   ]
  },
  {
   "cell_type": "code",
   "execution_count": 7,
   "id": "9938ba55-4b74-49d7-ab1c-f6f5c52c57a1",
   "metadata": {},
   "outputs": [],
   "source": [
    "questions_df =df[df[\"inbound\"] ==True].copy()"
   ]
  },
  {
   "cell_type": "code",
   "execution_count": 8,
   "id": "082924c7-a360-4f0c-a32b-ad0acb882b53",
   "metadata": {},
   "outputs": [
    {
     "data": {
      "text/plain": [
       "(1537843, 7)"
      ]
     },
     "execution_count": 8,
     "metadata": {},
     "output_type": "execute_result"
    }
   ],
   "source": [
    "questions_df.shape"
   ]
  },
  {
   "cell_type": "code",
   "execution_count": 9,
   "id": "fc74ca27-850c-455f-a7d5-f21eee15a9f8",
   "metadata": {},
   "outputs": [
    {
     "data": {
      "text/html": [
       "<div>\n",
       "<style scoped>\n",
       "    .dataframe tbody tr th:only-of-type {\n",
       "        vertical-align: middle;\n",
       "    }\n",
       "\n",
       "    .dataframe tbody tr th {\n",
       "        vertical-align: top;\n",
       "    }\n",
       "\n",
       "    .dataframe thead th {\n",
       "        text-align: right;\n",
       "    }\n",
       "</style>\n",
       "<table border=\"1\" class=\"dataframe\">\n",
       "  <thead>\n",
       "    <tr style=\"text-align: right;\">\n",
       "      <th></th>\n",
       "      <th>tweet_id</th>\n",
       "      <th>author_id</th>\n",
       "      <th>inbound</th>\n",
       "      <th>created_at</th>\n",
       "      <th>text</th>\n",
       "      <th>response_tweet_id</th>\n",
       "      <th>in_response_to_tweet_id</th>\n",
       "    </tr>\n",
       "  </thead>\n",
       "  <tbody>\n",
       "    <tr>\n",
       "      <th>1</th>\n",
       "      <td>2</td>\n",
       "      <td>115712</td>\n",
       "      <td>True</td>\n",
       "      <td>Tue Oct 31 22:11:45 +0000 2017</td>\n",
       "      <td>@sprintcare and how do you propose we do that</td>\n",
       "      <td>NaN</td>\n",
       "      <td>1.0</td>\n",
       "    </tr>\n",
       "    <tr>\n",
       "      <th>2</th>\n",
       "      <td>3</td>\n",
       "      <td>115712</td>\n",
       "      <td>True</td>\n",
       "      <td>Tue Oct 31 22:08:27 +0000 2017</td>\n",
       "      <td>@sprintcare I have sent several private messag...</td>\n",
       "      <td>1</td>\n",
       "      <td>4.0</td>\n",
       "    </tr>\n",
       "    <tr>\n",
       "      <th>4</th>\n",
       "      <td>5</td>\n",
       "      <td>115712</td>\n",
       "      <td>True</td>\n",
       "      <td>Tue Oct 31 21:49:35 +0000 2017</td>\n",
       "      <td>@sprintcare I did.</td>\n",
       "      <td>4</td>\n",
       "      <td>6.0</td>\n",
       "    </tr>\n",
       "    <tr>\n",
       "      <th>6</th>\n",
       "      <td>8</td>\n",
       "      <td>115712</td>\n",
       "      <td>True</td>\n",
       "      <td>Tue Oct 31 21:45:10 +0000 2017</td>\n",
       "      <td>@sprintcare is the worst customer service</td>\n",
       "      <td>9,6,10</td>\n",
       "      <td>NaN</td>\n",
       "    </tr>\n",
       "    <tr>\n",
       "      <th>8</th>\n",
       "      <td>12</td>\n",
       "      <td>115713</td>\n",
       "      <td>True</td>\n",
       "      <td>Tue Oct 31 22:04:47 +0000 2017</td>\n",
       "      <td>@sprintcare You gonna magically change your co...</td>\n",
       "      <td>11,13,14</td>\n",
       "      <td>15.0</td>\n",
       "    </tr>\n",
       "  </tbody>\n",
       "</table>\n",
       "</div>"
      ],
      "text/plain": [
       "   tweet_id author_id  inbound                      created_at  \\\n",
       "1         2    115712     True  Tue Oct 31 22:11:45 +0000 2017   \n",
       "2         3    115712     True  Tue Oct 31 22:08:27 +0000 2017   \n",
       "4         5    115712     True  Tue Oct 31 21:49:35 +0000 2017   \n",
       "6         8    115712     True  Tue Oct 31 21:45:10 +0000 2017   \n",
       "8        12    115713     True  Tue Oct 31 22:04:47 +0000 2017   \n",
       "\n",
       "                                                text response_tweet_id  \\\n",
       "1      @sprintcare and how do you propose we do that               NaN   \n",
       "2  @sprintcare I have sent several private messag...                 1   \n",
       "4                                 @sprintcare I did.                 4   \n",
       "6          @sprintcare is the worst customer service            9,6,10   \n",
       "8  @sprintcare You gonna magically change your co...          11,13,14   \n",
       "\n",
       "   in_response_to_tweet_id  \n",
       "1                      1.0  \n",
       "2                      4.0  \n",
       "4                      6.0  \n",
       "6                      NaN  \n",
       "8                     15.0  "
      ]
     },
     "execution_count": 9,
     "metadata": {},
     "output_type": "execute_result"
    }
   ],
   "source": [
    "questions_df.head()"
   ]
  },
  {
   "cell_type": "code",
   "execution_count": 10,
   "id": "2bb6a7e8-862f-44c5-9fc1-056570fcd20c",
   "metadata": {},
   "outputs": [],
   "source": [
    "answers_df =df[df[\"inbound\"] == False].copy()"
   ]
  },
  {
   "cell_type": "code",
   "execution_count": 11,
   "id": "5fece9ab-7b39-40ca-b923-842bf007fe57",
   "metadata": {},
   "outputs": [
    {
     "data": {
      "text/plain": [
       "(1273931, 7)"
      ]
     },
     "execution_count": 11,
     "metadata": {},
     "output_type": "execute_result"
    }
   ],
   "source": [
    "answers_df.shape"
   ]
  },
  {
   "cell_type": "code",
   "execution_count": 12,
   "id": "3867b622-aa74-4b7c-837b-fd1f09cf6c41",
   "metadata": {},
   "outputs": [
    {
     "data": {
      "text/html": [
       "<div>\n",
       "<style scoped>\n",
       "    .dataframe tbody tr th:only-of-type {\n",
       "        vertical-align: middle;\n",
       "    }\n",
       "\n",
       "    .dataframe tbody tr th {\n",
       "        vertical-align: top;\n",
       "    }\n",
       "\n",
       "    .dataframe thead th {\n",
       "        text-align: right;\n",
       "    }\n",
       "</style>\n",
       "<table border=\"1\" class=\"dataframe\">\n",
       "  <thead>\n",
       "    <tr style=\"text-align: right;\">\n",
       "      <th></th>\n",
       "      <th>tweet_id</th>\n",
       "      <th>author_id</th>\n",
       "      <th>inbound</th>\n",
       "      <th>created_at</th>\n",
       "      <th>text</th>\n",
       "      <th>response_tweet_id</th>\n",
       "      <th>in_response_to_tweet_id</th>\n",
       "    </tr>\n",
       "  </thead>\n",
       "  <tbody>\n",
       "    <tr>\n",
       "      <th>0</th>\n",
       "      <td>1</td>\n",
       "      <td>sprintcare</td>\n",
       "      <td>False</td>\n",
       "      <td>Tue Oct 31 22:10:47 +0000 2017</td>\n",
       "      <td>@115712 I understand. I would like to assist y...</td>\n",
       "      <td>2</td>\n",
       "      <td>3.0</td>\n",
       "    </tr>\n",
       "    <tr>\n",
       "      <th>3</th>\n",
       "      <td>4</td>\n",
       "      <td>sprintcare</td>\n",
       "      <td>False</td>\n",
       "      <td>Tue Oct 31 21:54:49 +0000 2017</td>\n",
       "      <td>@115712 Please send us a Private Message so th...</td>\n",
       "      <td>3</td>\n",
       "      <td>5.0</td>\n",
       "    </tr>\n",
       "    <tr>\n",
       "      <th>5</th>\n",
       "      <td>6</td>\n",
       "      <td>sprintcare</td>\n",
       "      <td>False</td>\n",
       "      <td>Tue Oct 31 21:46:24 +0000 2017</td>\n",
       "      <td>@115712 Can you please send us a private messa...</td>\n",
       "      <td>5,7</td>\n",
       "      <td>8.0</td>\n",
       "    </tr>\n",
       "    <tr>\n",
       "      <th>7</th>\n",
       "      <td>11</td>\n",
       "      <td>sprintcare</td>\n",
       "      <td>False</td>\n",
       "      <td>Tue Oct 31 22:10:35 +0000 2017</td>\n",
       "      <td>@115713 This is saddening to hear. Please shoo...</td>\n",
       "      <td>NaN</td>\n",
       "      <td>12.0</td>\n",
       "    </tr>\n",
       "    <tr>\n",
       "      <th>9</th>\n",
       "      <td>15</td>\n",
       "      <td>sprintcare</td>\n",
       "      <td>False</td>\n",
       "      <td>Tue Oct 31 20:03:31 +0000 2017</td>\n",
       "      <td>@115713 We understand your concerns and we'd l...</td>\n",
       "      <td>12</td>\n",
       "      <td>16.0</td>\n",
       "    </tr>\n",
       "  </tbody>\n",
       "</table>\n",
       "</div>"
      ],
      "text/plain": [
       "   tweet_id   author_id  inbound                      created_at  \\\n",
       "0         1  sprintcare    False  Tue Oct 31 22:10:47 +0000 2017   \n",
       "3         4  sprintcare    False  Tue Oct 31 21:54:49 +0000 2017   \n",
       "5         6  sprintcare    False  Tue Oct 31 21:46:24 +0000 2017   \n",
       "7        11  sprintcare    False  Tue Oct 31 22:10:35 +0000 2017   \n",
       "9        15  sprintcare    False  Tue Oct 31 20:03:31 +0000 2017   \n",
       "\n",
       "                                                text response_tweet_id  \\\n",
       "0  @115712 I understand. I would like to assist y...                 2   \n",
       "3  @115712 Please send us a Private Message so th...                 3   \n",
       "5  @115712 Can you please send us a private messa...               5,7   \n",
       "7  @115713 This is saddening to hear. Please shoo...               NaN   \n",
       "9  @115713 We understand your concerns and we'd l...                12   \n",
       "\n",
       "   in_response_to_tweet_id  \n",
       "0                      3.0  \n",
       "3                      5.0  \n",
       "5                      8.0  \n",
       "7                     12.0  \n",
       "9                     16.0  "
      ]
     },
     "execution_count": 12,
     "metadata": {},
     "output_type": "execute_result"
    }
   ],
   "source": [
    "answers_df.head()"
   ]
  },
  {
   "cell_type": "code",
   "execution_count": 13,
   "id": "af43e946-6e8b-4443-bd6d-3615b7f2606b",
   "metadata": {},
   "outputs": [],
   "source": [
    "merge_df =pd.merge(\n",
    "    answers_df,\n",
    "    questions_df,\n",
    "    left_on ='in_response_to_tweet_id',\n",
    "    right_on ='tweet_id'\n",
    ")\n"
   ]
  },
  {
   "cell_type": "code",
   "execution_count": 14,
   "id": "c7543379-7a51-4d56-b909-b99ad9e625b8",
   "metadata": {},
   "outputs": [],
   "source": [
    "knowledge_base_df =merge_df[['text_y','text_x']].copy()"
   ]
  },
  {
   "cell_type": "code",
   "execution_count": 15,
   "id": "434a0625-780e-400f-9016-8cc8b8d821cf",
   "metadata": {},
   "outputs": [],
   "source": [
    "knowledge_base_df.rename(columns={'text_y' :'question','text_x' :'answer'}, inplace=True)"
   ]
  },
  {
   "cell_type": "code",
   "execution_count": 16,
   "id": "b682c20d-950d-4856-b63f-de7131843bc0",
   "metadata": {},
   "outputs": [
    {
     "data": {
      "text/html": [
       "<div>\n",
       "<style scoped>\n",
       "    .dataframe tbody tr th:only-of-type {\n",
       "        vertical-align: middle;\n",
       "    }\n",
       "\n",
       "    .dataframe tbody tr th {\n",
       "        vertical-align: top;\n",
       "    }\n",
       "\n",
       "    .dataframe thead th {\n",
       "        text-align: right;\n",
       "    }\n",
       "</style>\n",
       "<table border=\"1\" class=\"dataframe\">\n",
       "  <thead>\n",
       "    <tr style=\"text-align: right;\">\n",
       "      <th></th>\n",
       "      <th>question</th>\n",
       "      <th>answer</th>\n",
       "    </tr>\n",
       "  </thead>\n",
       "  <tbody>\n",
       "    <tr>\n",
       "      <th>0</th>\n",
       "      <td>@sprintcare I have sent several private messag...</td>\n",
       "      <td>@115712 I understand. I would like to assist y...</td>\n",
       "    </tr>\n",
       "    <tr>\n",
       "      <th>1</th>\n",
       "      <td>@sprintcare I did.</td>\n",
       "      <td>@115712 Please send us a Private Message so th...</td>\n",
       "    </tr>\n",
       "    <tr>\n",
       "      <th>2</th>\n",
       "      <td>@sprintcare is the worst customer service</td>\n",
       "      <td>@115712 Can you please send us a private messa...</td>\n",
       "    </tr>\n",
       "    <tr>\n",
       "      <th>3</th>\n",
       "      <td>@sprintcare You gonna magically change your co...</td>\n",
       "      <td>@115713 This is saddening to hear. Please shoo...</td>\n",
       "    </tr>\n",
       "    <tr>\n",
       "      <th>4</th>\n",
       "      <td>@sprintcare Since I signed up with you....Sinc...</td>\n",
       "      <td>@115713 We understand your concerns and we'd l...</td>\n",
       "    </tr>\n",
       "  </tbody>\n",
       "</table>\n",
       "</div>"
      ],
      "text/plain": [
       "                                            question  \\\n",
       "0  @sprintcare I have sent several private messag...   \n",
       "1                                 @sprintcare I did.   \n",
       "2          @sprintcare is the worst customer service   \n",
       "3  @sprintcare You gonna magically change your co...   \n",
       "4  @sprintcare Since I signed up with you....Sinc...   \n",
       "\n",
       "                                              answer  \n",
       "0  @115712 I understand. I would like to assist y...  \n",
       "1  @115712 Please send us a Private Message so th...  \n",
       "2  @115712 Can you please send us a private messa...  \n",
       "3  @115713 This is saddening to hear. Please shoo...  \n",
       "4  @115713 We understand your concerns and we'd l...  "
      ]
     },
     "metadata": {},
     "output_type": "display_data"
    }
   ],
   "source": [
    "display(knowledge_base_df.head())"
   ]
  },
  {
   "cell_type": "code",
   "execution_count": 17,
   "id": "41ec0cbf-cb79-40d2-a9cf-b5cb28d9e4ef",
   "metadata": {},
   "outputs": [
    {
     "data": {
      "text/plain": [
       "(1261888, 2)"
      ]
     },
     "execution_count": 17,
     "metadata": {},
     "output_type": "execute_result"
    }
   ],
   "source": [
    "knowledge_base_df.shape"
   ]
  },
  {
   "cell_type": "code",
   "execution_count": 23,
   "id": "937a1631-4014-4db4-85dc-f49c28609e74",
   "metadata": {},
   "outputs": [],
   "source": [
    "knowledge_base_sample_df =knowledge_base_df.sample(n=200000, random_state=42).copy()\n"
   ]
  },
  {
   "cell_type": "code",
   "execution_count": 27,
   "id": "0bc10e19-c056-4b16-9e5d-05998f1ba486",
   "metadata": {
    "scrolled": true
   },
   "outputs": [
    {
     "data": {
      "text/html": [
       "<div>\n",
       "<style scoped>\n",
       "    .dataframe tbody tr th:only-of-type {\n",
       "        vertical-align: middle;\n",
       "    }\n",
       "\n",
       "    .dataframe tbody tr th {\n",
       "        vertical-align: top;\n",
       "    }\n",
       "\n",
       "    .dataframe thead th {\n",
       "        text-align: right;\n",
       "    }\n",
       "</style>\n",
       "<table border=\"1\" class=\"dataframe\">\n",
       "  <thead>\n",
       "    <tr style=\"text-align: right;\">\n",
       "      <th></th>\n",
       "      <th>question</th>\n",
       "      <th>answer</th>\n",
       "      <th>cleaned_question</th>\n",
       "    </tr>\n",
       "  </thead>\n",
       "  <tbody>\n",
       "    <tr>\n",
       "      <th>976336</th>\n",
       "      <td>@ATVIAssist When is new update</td>\n",
       "      <td>@676038 We're a tech support team here Jonatha...</td>\n",
       "      <td>when is new update</td>\n",
       "    </tr>\n",
       "    <tr>\n",
       "      <th>232797</th>\n",
       "      <td>@AppleSupport Some time ago I had an appleid (...</td>\n",
       "      <td>@259371 We'll do everything we can to get you ...</td>\n",
       "      <td>some time ago i had an appleid (which was an e...</td>\n",
       "    </tr>\n",
       "    <tr>\n",
       "      <th>454689</th>\n",
       "      <td>Vor über 2 Wochen an den Amazon Kundendienst g...</td>\n",
       "      <td>@385776 Hast du dich denn über unser Kontaktfo...</td>\n",
       "      <td>vor über 2 wochen an den amazon kundendienst g...</td>\n",
       "    </tr>\n",
       "    <tr>\n",
       "      <th>753991</th>\n",
       "      <td>@115817. If your customer service was helpful,...</td>\n",
       "      <td>@551746 I'm sorry for the frustrations. Please...</td>\n",
       "      <td>. if your customer service was helpful, i woul...</td>\n",
       "    </tr>\n",
       "    <tr>\n",
       "      <th>1255132</th>\n",
       "      <td>@115955 #Spectrum the worst TV service ever.  ...</td>\n",
       "      <td>@613060 Hello Paul. My apologies for any frust...</td>\n",
       "      <td>the worst tv service ever.  just fix the on de...</td>\n",
       "    </tr>\n",
       "    <tr>\n",
       "      <th>...</th>\n",
       "      <td>...</td>\n",
       "      <td>...</td>\n",
       "      <td>...</td>\n",
       "    </tr>\n",
       "    <tr>\n",
       "      <th>730779</th>\n",
       "      <td>@hulu_support How many people can watch my hul...</td>\n",
       "      <td>@538086 Hi, Tim! On-demand plans come with 1 s...</td>\n",
       "      <td>how many people can watch my hulu at the same ...</td>\n",
       "    </tr>\n",
       "    <tr>\n",
       "      <th>1065957</th>\n",
       "      <td>I finally finished up a nice 4 hour stream and...</td>\n",
       "      <td>@722601 Thank you for reaching out, if you can...</td>\n",
       "      <td>i finally finished up a nice 4 hour stream and...</td>\n",
       "    </tr>\n",
       "    <tr>\n",
       "      <th>579598</th>\n",
       "      <td>@Tesco Call of duty ww2 btw</td>\n",
       "      <td>@452131 Hi Rob, Streatham Extra will be the cl...</td>\n",
       "      <td>call of duty ww2 btw</td>\n",
       "    </tr>\n",
       "    <tr>\n",
       "      <th>708009</th>\n",
       "      <td>@VirginTrains any idea how delayed the 21.07 t...</td>\n",
       "      <td>@524994 Hi Maggie, we are currently awaiting f...</td>\n",
       "      <td>any idea how delayed the 21.07 to liverpool is?</td>\n",
       "    </tr>\n",
       "    <tr>\n",
       "      <th>299814</th>\n",
       "      <td>@VirginTrains Managed to get on 1541 and get s...</td>\n",
       "      <td>@297285 Staff will be able to advise when it i...</td>\n",
       "      <td>managed to get on 1541 and get seats but haven...</td>\n",
       "    </tr>\n",
       "  </tbody>\n",
       "</table>\n",
       "<p>200000 rows × 3 columns</p>\n",
       "</div>"
      ],
      "text/plain": [
       "                                                  question  \\\n",
       "976336                      @ATVIAssist When is new update   \n",
       "232797   @AppleSupport Some time ago I had an appleid (...   \n",
       "454689   Vor über 2 Wochen an den Amazon Kundendienst g...   \n",
       "753991   @115817. If your customer service was helpful,...   \n",
       "1255132  @115955 #Spectrum the worst TV service ever.  ...   \n",
       "...                                                    ...   \n",
       "730779   @hulu_support How many people can watch my hul...   \n",
       "1065957  I finally finished up a nice 4 hour stream and...   \n",
       "579598                         @Tesco Call of duty ww2 btw   \n",
       "708009   @VirginTrains any idea how delayed the 21.07 t...   \n",
       "299814   @VirginTrains Managed to get on 1541 and get s...   \n",
       "\n",
       "                                                    answer  \\\n",
       "976336   @676038 We're a tech support team here Jonatha...   \n",
       "232797   @259371 We'll do everything we can to get you ...   \n",
       "454689   @385776 Hast du dich denn über unser Kontaktfo...   \n",
       "753991   @551746 I'm sorry for the frustrations. Please...   \n",
       "1255132  @613060 Hello Paul. My apologies for any frust...   \n",
       "...                                                    ...   \n",
       "730779   @538086 Hi, Tim! On-demand plans come with 1 s...   \n",
       "1065957  @722601 Thank you for reaching out, if you can...   \n",
       "579598   @452131 Hi Rob, Streatham Extra will be the cl...   \n",
       "708009   @524994 Hi Maggie, we are currently awaiting f...   \n",
       "299814   @297285 Staff will be able to advise when it i...   \n",
       "\n",
       "                                          cleaned_question  \n",
       "976336                                  when is new update  \n",
       "232797   some time ago i had an appleid (which was an e...  \n",
       "454689   vor über 2 wochen an den amazon kundendienst g...  \n",
       "753991   . if your customer service was helpful, i woul...  \n",
       "1255132  the worst tv service ever.  just fix the on de...  \n",
       "...                                                    ...  \n",
       "730779   how many people can watch my hulu at the same ...  \n",
       "1065957  i finally finished up a nice 4 hour stream and...  \n",
       "579598                                call of duty ww2 btw  \n",
       "708009     any idea how delayed the 21.07 to liverpool is?  \n",
       "299814   managed to get on 1541 and get seats but haven...  \n",
       "\n",
       "[200000 rows x 3 columns]"
      ]
     },
     "execution_count": 27,
     "metadata": {},
     "output_type": "execute_result"
    }
   ],
   "source": [
    "import re\n",
    "def clean_tweet_text(text):\n",
    "    text = str(text)\n",
    "    text = re.sub(r'@\\w+', '', text)\n",
    "    text = re.sub(r'http\\S+', '', text)\n",
    "    text = re.sub(r'#\\w+', '', text)\n",
    "    return text.strip().lower()\n",
    "knowledge_base_sample_df['cleaned_question'] = knowledge_base_sample_df['question'].apply(clean_tweet_text)\n",
    "\n",
    "knowledge_base_sample_df"
   ]
  },
  {
   "cell_type": "code",
   "execution_count": 31,
   "id": "59bbe927-886a-44fd-8a87-70365badb787",
   "metadata": {},
   "outputs": [
    {
     "name": "stderr",
     "output_type": "stream",
     "text": [
      "Language Detection: 100%|█████████████████████████████████████████████████████| 200000/200000 [08:06<00:00, 411.09it/s]\n"
     ]
    },
    {
     "data": {
      "text/html": [
       "<div>\n",
       "<style scoped>\n",
       "    .dataframe tbody tr th:only-of-type {\n",
       "        vertical-align: middle;\n",
       "    }\n",
       "\n",
       "    .dataframe tbody tr th {\n",
       "        vertical-align: top;\n",
       "    }\n",
       "\n",
       "    .dataframe thead th {\n",
       "        text-align: right;\n",
       "    }\n",
       "</style>\n",
       "<table border=\"1\" class=\"dataframe\">\n",
       "  <thead>\n",
       "    <tr style=\"text-align: right;\">\n",
       "      <th></th>\n",
       "      <th>question</th>\n",
       "      <th>answer</th>\n",
       "      <th>cleaned_question</th>\n",
       "    </tr>\n",
       "  </thead>\n",
       "  <tbody>\n",
       "    <tr>\n",
       "      <th>976336</th>\n",
       "      <td>@ATVIAssist When is new update</td>\n",
       "      <td>@676038 We're a tech support team here Jonatha...</td>\n",
       "      <td>when is new update</td>\n",
       "    </tr>\n",
       "    <tr>\n",
       "      <th>232797</th>\n",
       "      <td>@AppleSupport Some time ago I had an appleid (...</td>\n",
       "      <td>@259371 We'll do everything we can to get you ...</td>\n",
       "      <td>some time ago i had an appleid (which was an e...</td>\n",
       "    </tr>\n",
       "    <tr>\n",
       "      <th>753991</th>\n",
       "      <td>@115817. If your customer service was helpful,...</td>\n",
       "      <td>@551746 I'm sorry for the frustrations. Please...</td>\n",
       "      <td>. if your customer service was helpful, i woul...</td>\n",
       "    </tr>\n",
       "    <tr>\n",
       "      <th>1255132</th>\n",
       "      <td>@115955 #Spectrum the worst TV service ever.  ...</td>\n",
       "      <td>@613060 Hello Paul. My apologies for any frust...</td>\n",
       "      <td>the worst tv service ever.  just fix the on de...</td>\n",
       "    </tr>\n",
       "    <tr>\n",
       "      <th>839108</th>\n",
       "      <td>.@116062 yesterday in Lake Bluff, IL store ALL...</td>\n",
       "      <td>@600105 We love to hear about your great exper...</td>\n",
       "      <td>. yesterday in lake bluff, il store all associ...</td>\n",
       "    </tr>\n",
       "  </tbody>\n",
       "</table>\n",
       "</div>"
      ],
      "text/plain": [
       "                                                  question  \\\n",
       "976336                      @ATVIAssist When is new update   \n",
       "232797   @AppleSupport Some time ago I had an appleid (...   \n",
       "753991   @115817. If your customer service was helpful,...   \n",
       "1255132  @115955 #Spectrum the worst TV service ever.  ...   \n",
       "839108   .@116062 yesterday in Lake Bluff, IL store ALL...   \n",
       "\n",
       "                                                    answer  \\\n",
       "976336   @676038 We're a tech support team here Jonatha...   \n",
       "232797   @259371 We'll do everything we can to get you ...   \n",
       "753991   @551746 I'm sorry for the frustrations. Please...   \n",
       "1255132  @613060 Hello Paul. My apologies for any frust...   \n",
       "839108   @600105 We love to hear about your great exper...   \n",
       "\n",
       "                                          cleaned_question  \n",
       "976336                                  when is new update  \n",
       "232797   some time ago i had an appleid (which was an e...  \n",
       "753991   . if your customer service was helpful, i woul...  \n",
       "1255132  the worst tv service ever.  just fix the on de...  \n",
       "839108   . yesterday in lake bluff, il store all associ...  "
      ]
     },
     "execution_count": 31,
     "metadata": {},
     "output_type": "execute_result"
    }
   ],
   "source": [
    "from langdetect import detect,LangDetectException\n",
    "from tqdm import tqdm\n",
    "def is_english(text):\n",
    "    try:\n",
    "        if isinstance(text, str) and len(text.strip()) > 0:\n",
    "            return detect(text) == 'en'\n",
    "    except LangDetectException:\n",
    "        pass\n",
    "    return False\n",
    "#Create a boolean mask for English questions\n",
    "# We use tqdm to show progress as this step can be slow\n",
    "tqdm.pandas(desc=\"Language Detection\")\n",
    "english_mask = knowledge_base_sample_df['cleaned_question'].progress_apply(is_english)\n",
    "\n",
    "# Apply the mask to create a new, English-only DataFrame\n",
    "english_kb_df = knowledge_base_sample_df[english_mask].copy()\n",
    "\n",
    "english_kb_df.head()"
   ]
  },
  {
   "cell_type": "code",
   "execution_count": 35,
   "id": "c01bb817-3074-490f-b171-600c30bbd189",
   "metadata": {},
   "outputs": [
    {
     "name": "stdout",
     "output_type": "stream",
     "text": [
      "final data size is 100000\n"
     ]
    },
    {
     "data": {
      "application/vnd.jupyter.widget-view+json": {
       "model_id": "139868c29fbb43f6b5588b2a9da17ed1",
       "version_major": 2,
       "version_minor": 0
      },
      "text/plain": [
       "modules.json:   0%|          | 0.00/349 [00:00<?, ?B/s]"
      ]
     },
     "metadata": {},
     "output_type": "display_data"
    },
    {
     "name": "stderr",
     "output_type": "stream",
     "text": [
      "C:\\Users\\balap\\anaconda3\\Lib\\site-packages\\huggingface_hub\\file_download.py:143: UserWarning: `huggingface_hub` cache-system uses symlinks by default to efficiently store duplicated files but your machine does not support them in C:\\Users\\balap\\.cache\\huggingface\\hub\\models--sentence-transformers--all-MiniLM-L6-v2. Caching files will still work but in a degraded version that might require more space on your disk. This warning can be disabled by setting the `HF_HUB_DISABLE_SYMLINKS_WARNING` environment variable. For more details, see https://huggingface.co/docs/huggingface_hub/how-to-cache#limitations.\n",
      "To support symlinks on Windows, you either need to activate Developer Mode or to run Python as an administrator. In order to activate developer mode, see this article: https://docs.microsoft.com/en-us/windows/apps/get-started/enable-your-device-for-development\n",
      "  warnings.warn(message)\n"
     ]
    },
    {
     "data": {
      "application/vnd.jupyter.widget-view+json": {
       "model_id": "863645166bb64d988bc60cc8e27cf8ad",
       "version_major": 2,
       "version_minor": 0
      },
      "text/plain": [
       "config_sentence_transformers.json:   0%|          | 0.00/116 [00:00<?, ?B/s]"
      ]
     },
     "metadata": {},
     "output_type": "display_data"
    },
    {
     "data": {
      "application/vnd.jupyter.widget-view+json": {
       "model_id": "5f4dfd1521c04344a3c9510b9dddc61d",
       "version_major": 2,
       "version_minor": 0
      },
      "text/plain": [
       "README.md: 0.00B [00:00, ?B/s]"
      ]
     },
     "metadata": {},
     "output_type": "display_data"
    },
    {
     "data": {
      "application/vnd.jupyter.widget-view+json": {
       "model_id": "5151f350a709421182b5ac7df14314d7",
       "version_major": 2,
       "version_minor": 0
      },
      "text/plain": [
       "sentence_bert_config.json:   0%|          | 0.00/53.0 [00:00<?, ?B/s]"
      ]
     },
     "metadata": {},
     "output_type": "display_data"
    },
    {
     "data": {
      "application/vnd.jupyter.widget-view+json": {
       "model_id": "75e5c5315699483b9cefe79a47cf13a9",
       "version_major": 2,
       "version_minor": 0
      },
      "text/plain": [
       "config.json:   0%|          | 0.00/612 [00:00<?, ?B/s]"
      ]
     },
     "metadata": {},
     "output_type": "display_data"
    },
    {
     "name": "stderr",
     "output_type": "stream",
     "text": [
      "Xet Storage is enabled for this repo, but the 'hf_xet' package is not installed. Falling back to regular HTTP download. For better performance, install the package with: `pip install huggingface_hub[hf_xet]` or `pip install hf_xet`\n"
     ]
    },
    {
     "data": {
      "application/vnd.jupyter.widget-view+json": {
       "model_id": "9ebfcce1f80347a48ae47671dc7d28ba",
       "version_major": 2,
       "version_minor": 0
      },
      "text/plain": [
       "model.safetensors:   0%|          | 0.00/90.9M [00:00<?, ?B/s]"
      ]
     },
     "metadata": {},
     "output_type": "display_data"
    },
    {
     "data": {
      "application/vnd.jupyter.widget-view+json": {
       "model_id": "cef16c80b33a419f8d9a9a900d5854ec",
       "version_major": 2,
       "version_minor": 0
      },
      "text/plain": [
       "tokenizer_config.json:   0%|          | 0.00/350 [00:00<?, ?B/s]"
      ]
     },
     "metadata": {},
     "output_type": "display_data"
    },
    {
     "data": {
      "application/vnd.jupyter.widget-view+json": {
       "model_id": "218a61dacb044de98ffe134c78a51310",
       "version_major": 2,
       "version_minor": 0
      },
      "text/plain": [
       "vocab.txt: 0.00B [00:00, ?B/s]"
      ]
     },
     "metadata": {},
     "output_type": "display_data"
    },
    {
     "data": {
      "application/vnd.jupyter.widget-view+json": {
       "model_id": "837e1633468c4ee0af26ecbcdd7e3eb1",
       "version_major": 2,
       "version_minor": 0
      },
      "text/plain": [
       "tokenizer.json: 0.00B [00:00, ?B/s]"
      ]
     },
     "metadata": {},
     "output_type": "display_data"
    },
    {
     "data": {
      "application/vnd.jupyter.widget-view+json": {
       "model_id": "f9781bd622b24e7c84635f41ead0d3dc",
       "version_major": 2,
       "version_minor": 0
      },
      "text/plain": [
       "special_tokens_map.json:   0%|          | 0.00/112 [00:00<?, ?B/s]"
      ]
     },
     "metadata": {},
     "output_type": "display_data"
    },
    {
     "data": {
      "application/vnd.jupyter.widget-view+json": {
       "model_id": "b9edf91aba694f3883f744de34ed501b",
       "version_major": 2,
       "version_minor": 0
      },
      "text/plain": [
       "config.json:   0%|          | 0.00/190 [00:00<?, ?B/s]"
      ]
     },
     "metadata": {},
     "output_type": "display_data"
    },
    {
     "data": {
      "application/vnd.jupyter.widget-view+json": {
       "model_id": "2ac0527971cd46a4852752677937f0cc",
       "version_major": 2,
       "version_minor": 0
      },
      "text/plain": [
       "Batches:   0%|          | 0/3125 [00:00<?, ?it/s]"
      ]
     },
     "metadata": {},
     "output_type": "display_data"
    },
    {
     "name": "stderr",
     "output_type": "stream",
     "text": [
      "C:\\Users\\balap\\anaconda3\\Lib\\site-packages\\torch\\nn\\modules\\module.py:1762: FutureWarning: `encoder_attention_mask` is deprecated and will be removed in version 4.55.0 for `BertSdpaSelfAttention.forward`.\n",
      "  return forward_call(*args, **kwargs)\n"
     ]
    },
    {
     "name": "stdout",
     "output_type": "stream",
     "text": [
      "\n",
      " embedding complete\n"
     ]
    },
    {
     "data": {
      "text/plain": [
       "(100000, 384)"
      ]
     },
     "execution_count": 35,
     "metadata": {},
     "output_type": "execute_result"
    }
   ],
   "source": [
    "if len(english_kb_df) >100000:\n",
    "    knowledge_base_100K_sample_df =english_kb_df.sample(n=100000, random_state=42).copy()\n",
    "else:                   #if fewer than 100k smaples\n",
    "    knowledge_base_100K_sample_df =english_kb_df\n",
    "print(f'final data size is {len(knowledge_base_100K_sample_df)}')\n",
    "#loading model\n",
    "from sentence_transformers import SentenceTransformer\n",
    "model = SentenceTransformer('all-MiniLM-L6-v2')\n",
    "\n",
    "question_to_embed =knowledge_base_100K_sample_df['cleaned_question'].tolist()\n",
    "\n",
    "embedding =model.encode(question_to_embed,show_progress_bar=True)\n",
    "\n",
    "print('\\n embedding complete')\n",
    "embedding.shape"
   ]
  },
  {
   "cell_type": "code",
   "execution_count": 37,
   "id": "06d4ece1-d13c-4280-b4a5-99234763fcda",
   "metadata": {},
   "outputs": [
    {
     "name": "stdout",
     "output_type": "stream",
     "text": [
      "Index created and saved. It contains 100000 vectors.\n"
     ]
    }
   ],
   "source": [
    "import faiss\n",
    "import numpy as np\n",
    "\n",
    "# This gets the dimension of our vectors (e.g., 384)\n",
    "vector_dimension = embedding.shape[1]\n",
    "\n",
    "# This creates a standard, accurate FAISS index\n",
    "index = faiss.IndexFlatL2(vector_dimension)\n",
    "\n",
    "# This adds our 100,000 vectors to the index\n",
    "index.add(embedding)\n",
    "\n",
    "# This saves our finished index to a permanent file\n",
    "faiss.write_index(index, 'knowledge_base.index')\n",
    "\n",
    "print(f\"Index created and saved. It contains {index.ntotal} vectors.\")"
   ]
  },
  {
   "cell_type": "code",
   "execution_count": 41,
   "id": "6a770108-f211-48b4-a069-e9e9e1951357",
   "metadata": {},
   "outputs": [
    {
     "data": {
      "text/plain": [
       "Index(['question', 'answer', 'cleaned_question'], dtype='object')"
      ]
     },
     "execution_count": 41,
     "metadata": {},
     "output_type": "execute_result"
    }
   ],
   "source": [
    "knowledge_base_100K_sample_df.columns"
   ]
  },
  {
   "cell_type": "code",
   "execution_count": 43,
   "id": "16a36996-1da8-49dd-8ebd-fbb615e6b074",
   "metadata": {},
   "outputs": [
    {
     "name": "stdout",
     "output_type": "stream",
     "text": [
      "success\n"
     ]
    }
   ],
   "source": [
    "knowledge_base_100K_sample_df.to_csv('knowledge_base_100k_csv_sample.csv',index=False)\n",
    "print('success')"
   ]
  },
  {
   "cell_type": "markdown",
   "id": "211e13a3-c63a-48ae-9eff-2d47bf4a0673",
   "metadata": {},
   "source": [
    "# Librarian"
   ]
  },
  {
   "cell_type": "code",
   "execution_count": 47,
   "id": "c54157c9-9b3f-40f4-8dd5-5c076a626e53",
   "metadata": {},
   "outputs": [
    {
     "name": "stdout",
     "output_type": "stream",
     "text": [
      "\n",
      " for test question:'My Amazon order is delayed, what should I do?'\n",
      "\n",
      " top 5 most relevant conservatins\n"
     ]
    },
    {
     "name": "stderr",
     "output_type": "stream",
     "text": [
      "C:\\Users\\balap\\anaconda3\\Lib\\site-packages\\torch\\nn\\modules\\module.py:1762: FutureWarning: `encoder_attention_mask` is deprecated and will be removed in version 4.55.0 for `BertSdpaSelfAttention.forward`.\n",
      "  return forward_call(*args, **kwargs)\n"
     ]
    },
    {
     "data": {
      "text/html": [
       "<div>\n",
       "<style scoped>\n",
       "    .dataframe tbody tr th:only-of-type {\n",
       "        vertical-align: middle;\n",
       "    }\n",
       "\n",
       "    .dataframe tbody tr th {\n",
       "        vertical-align: top;\n",
       "    }\n",
       "\n",
       "    .dataframe thead th {\n",
       "        text-align: right;\n",
       "    }\n",
       "</style>\n",
       "<table border=\"1\" class=\"dataframe\">\n",
       "  <thead>\n",
       "    <tr style=\"text-align: right;\">\n",
       "      <th></th>\n",
       "      <th>question</th>\n",
       "      <th>answer</th>\n",
       "      <th>cleaned_question</th>\n",
       "    </tr>\n",
       "  </thead>\n",
       "  <tbody>\n",
       "    <tr>\n",
       "      <th>75853</th>\n",
       "      <td>Amazon just told me my package was delayed... ...</td>\n",
       "      <td>@793985 I am so sorry for the delay! Please le...</td>\n",
       "      <td>amazon just told me my package was delayed...</td>\n",
       "    </tr>\n",
       "    <tr>\n",
       "      <th>2484</th>\n",
       "      <td>My parcel is delayed till 12 Dec😭 Amazon...why?!</td>\n",
       "      <td>@274548 I'm really sorry to hear about that. W...</td>\n",
       "      <td>my parcel is delayed till 12 dec😭 amazon...why?!</td>\n",
       "    </tr>\n",
       "    <tr>\n",
       "      <th>35792</th>\n",
       "      <td>@115851 @115850 @118702 Amazon did not deliver...</td>\n",
       "      <td>@322942 I get your disappointment, Pratik. Hav...</td>\n",
       "      <td>amazon did not deliver my order and cancelled ...</td>\n",
       "    </tr>\n",
       "    <tr>\n",
       "      <th>93975</th>\n",
       "      <td>@AmazonHelp Have been waiting for past 3 days....</td>\n",
       "      <td>@298990 As you've shared your details, we'll w...</td>\n",
       "      <td>have been waiting for past 3 days..have sent c...</td>\n",
       "    </tr>\n",
       "    <tr>\n",
       "      <th>25200</th>\n",
       "      <td>@115850 my order is quite delayed, what's the ...</td>\n",
       "      <td>@335267 Please share your details here: https:...</td>\n",
       "      <td>my order is quite delayed, what's the recourse...</td>\n",
       "    </tr>\n",
       "  </tbody>\n",
       "</table>\n",
       "</div>"
      ],
      "text/plain": [
       "                                                question  \\\n",
       "75853  Amazon just told me my package was delayed... ...   \n",
       "2484    My parcel is delayed till 12 Dec😭 Amazon...why?!   \n",
       "35792  @115851 @115850 @118702 Amazon did not deliver...   \n",
       "93975  @AmazonHelp Have been waiting for past 3 days....   \n",
       "25200  @115850 my order is quite delayed, what's the ...   \n",
       "\n",
       "                                                  answer  \\\n",
       "75853  @793985 I am so sorry for the delay! Please le...   \n",
       "2484   @274548 I'm really sorry to hear about that. W...   \n",
       "35792  @322942 I get your disappointment, Pratik. Hav...   \n",
       "93975  @298990 As you've shared your details, we'll w...   \n",
       "25200  @335267 Please share your details here: https:...   \n",
       "\n",
       "                                        cleaned_question  \n",
       "75853      amazon just told me my package was delayed...  \n",
       "2484    my parcel is delayed till 12 dec😭 amazon...why?!  \n",
       "35792  amazon did not deliver my order and cancelled ...  \n",
       "93975  have been waiting for past 3 days..have sent c...  \n",
       "25200  my order is quite delayed, what's the recourse...  "
      ]
     },
     "metadata": {},
     "output_type": "display_data"
    }
   ],
   "source": [
    "#imp faiss\n",
    "#imp numpy\n",
    "# pandas\n",
    "#sentence transofrmer\n",
    "\n",
    "model = SentenceTransformer('all-MiniLM-L6-v2')\n",
    "index= faiss.read_index('knowledge_base.index')\n",
    "\n",
    "knowledge_base_csv_df =pd.read_csv('knowledge_base_100k_csv_sample.csv')\n",
    "\n",
    "#build our librarian function\n",
    "def find_relevant_context(user_question,top_k=5):\n",
    "    #Convert the new question into a vector\n",
    "    question_embedding =model.encode([user_question])\n",
    "    #Search the index for the closest matches      It then searches through our massive \"map\" (index) and instantly finds the 5 vectors that are mathematically closest to our new question's vector.\n",
    "    # The search returns the distances and the indices (row numbers) of the top matches. it will use calcuate the use of the  embedding ones,\n",
    "    distances,indices =index.search(question_embedding,top_k)\n",
    "    #Retrieve the actual text using the results\n",
    "    relevent_context =knowledge_base_csv_df.iloc[indices[0]]\n",
    "    return relevent_context\n",
    "\n",
    "#test the librarian\n",
    "test_question = \"My Amazon order is delayed, what should I do?\"\n",
    "similar_conservations =find_relevant_context(test_question,top_k=5)\n",
    "print(f\"\\n for test question:'{test_question}'\")\n",
    "print(\"\\n top 5 most relevant conservatins\")\n",
    "display(similar_conservations)"
   ]
  },
  {
   "cell_type": "markdown",
   "id": "df24e24c-cef7-4bc5-a244-9db8f8d4f5b5",
   "metadata": {},
   "source": [
    "# Expert Consultant"
   ]
  },
  {
   "cell_type": "code",
   "execution_count": 59,
   "id": "7f94af34-cd59-4eef-b7ef-2d5a2212ee85",
   "metadata": {},
   "outputs": [
    {
     "name": "stderr",
     "output_type": "stream",
     "text": [
      "C:\\Users\\balap\\anaconda3\\Lib\\site-packages\\torch\\nn\\modules\\module.py:1762: FutureWarning: `encoder_attention_mask` is deprecated and will be removed in version 4.55.0 for `BertSdpaSelfAttention.forward`.\n",
      "  return forward_call(*args, **kwargs)\n",
      "C:\\Users\\balap\\anaconda3\\Lib\\site-packages\\torch\\nn\\modules\\module.py:1762: FutureWarning: `encoder_attention_mask` is deprecated and will be removed in version 4.55.0 for `BertSdpaSelfAttention.forward`.\n",
      "  return forward_call(*args, **kwargs)\n"
     ]
    },
    {
     "name": "stdout",
     "output_type": "stream",
     "text": [
      "user question:My Amazon order is delayed, what should I do?\n",
      "\n",
      " final generated answer\n",
      "\n",
      "------------------\n",
      "Please share your details via the provided link so we can get in touch with you: https://t.co/GIJyeYqKE0. Alternatively, if a new delivery date was given, please let us know if you don't receive it by that date.\n"
     ]
    }
   ],
   "source": [
    "import google.generativeai as genai\n",
    "#Configure the Gemini API client\n",
    "genai.configure(api_key=gemini_api_key)\n",
    "\n",
    "gemini_model =genai.GenerativeModel('models/gemini-2.5-flash')\n",
    "\n",
    "def generate_smart_answer(user_question,context_df):\n",
    "    '''\n",
    "    this function takes user question and context form our search,\n",
    "    and uses the gemini api to generate the smart, helpful answer\n",
    "    '''\n",
    "    # First, we format the context from the DataFrame into a simple text block.\n",
    "    context_text = \"\"\n",
    "    for index,row in context_df.iterrows():\n",
    "        context_text += f\"Historical question:{row['question']}\\n official answer:{row['answer']}\\n\\n\"\n",
    "\n",
    "    #the special promt for the gemini model\n",
    "    prompt = f\"\"\"\n",
    "    You are an expert customer support agent. Your primary goal is to answer the user's question in a helpful and concise way, based *only* on the historical context provided.\n",
    "\n",
    "    **Do not make up information.** If the context does not contain the answer, say that you don't have enough information to help.\n",
    "\n",
    "    Here is the historical context:\n",
    "    ---\n",
    "    {context_text}\n",
    "    ---\n",
    "\n",
    "    Here is the user's new question:\n",
    "    \"{user_question}\"\n",
    "\n",
    "    Please provide your answer now.\n",
    "    \"\"\"\n",
    "    # Make the API call to get the generated answer\n",
    "    response=gemini_model.generate_content(prompt)\n",
    "    return response.text\n",
    "\n",
    "#test or final system\n",
    "test_question = \"My Amazon order is delayed, what should I do?\"\n",
    "\n",
    "# 1. First, our Librarian finds the context.\n",
    "similar_conversations = find_relevant_context(test_question, top_k=5)\n",
    "\n",
    "# 2. Then, our Consultant uses that context to generate the final answer.\n",
    "final_answer = generate_smart_answer(test_question, similar_conversations)\n",
    "\n",
    "print(f'user question:{test_question}')\n",
    "print(\"\\n final generated answer\")\n",
    "print(\"\\n------------------\")\n",
    "print(final_answer)\n",
    "    "
   ]
  },
  {
   "cell_type": "markdown",
   "id": "8dc04dc6-4186-4af5-85ea-7013ecd60b4a",
   "metadata": {},
   "source": [
    "# Secretary"
   ]
  },
  {
   "cell_type": "code",
   "execution_count": 69,
   "id": "44ba173a-5f07-434b-bfbf-b1685bbed3b5",
   "metadata": {},
   "outputs": [
    {
     "name": "stdout",
     "output_type": "stream",
     "text": [
      "success a new  support ticket was created in aritable.\n"
     ]
    },
    {
     "data": {
      "text/plain": [
       "True"
      ]
     },
     "execution_count": 69,
     "metadata": {},
     "output_type": "execute_result"
    }
   ],
   "source": [
    "#imp os\n",
    "import requests\n",
    "\n",
    "#Load our Airtable secrets\n",
    "airtable_api_key =os.getenv(\"AIRTABLE_API_KEY\")\n",
    "airtable_base_id =os.getenv(\"AIRTABLE_BASE_ID\")\n",
    "airtable_table_name = 'Table 1'\n",
    "\n",
    "# -- Build our \"Secretary\" function--\n",
    "def create_support_ticket(question_text):\n",
    "    '''\n",
    "    this function takes a user question and create the new record\n",
    "    in airtable \"support ticket\" base\n",
    "    '''\n",
    "    url = f\"https://api.airtable.com/v0/{airtable_base_id}/{airtable_table_name}\"\n",
    "    headers ={\n",
    "        \"Authorization\": f\"Bearer {airtable_api_key}\",\n",
    "        \"Content-Type\": \"application/json\"\n",
    "    }\n",
    "    data ={\n",
    "        'records':[\n",
    "            {\n",
    "                'fields':{\n",
    "                    'User Question':question_text,\n",
    "                    'Status':\"Todo\"\n",
    "                }\n",
    "            }\n",
    "        ]\n",
    "    }\n",
    "    response =requests.post(url,headers=headers,json=data)\n",
    "    if response.status_code ==200:\n",
    "        print(\"success a new  support ticket was created in aritable.\")\n",
    "        return True\n",
    "    else:\n",
    "        print(f\"errror creating ticket:{response.status_code}\")\n",
    "        print(response.text)\n",
    "        return False\n",
    "\n",
    "# --- let's test it! ---\n",
    "test_ticket_question = \"My account is locked and I cannot reset my password. I need to speak to a human.\"\n",
    "create_support_ticket(test_ticket_question)         "
   ]
  },
  {
   "cell_type": "code",
   "execution_count": null,
   "id": "49aee255-6e29-4446-929b-8c104d70bd2c",
   "metadata": {},
   "outputs": [],
   "source": []
  }
 ],
 "metadata": {
  "kernelspec": {
   "display_name": "Python 3 (ipykernel)",
   "language": "python",
   "name": "python3"
  },
  "language_info": {
   "codemirror_mode": {
    "name": "ipython",
    "version": 3
   },
   "file_extension": ".py",
   "mimetype": "text/x-python",
   "name": "python",
   "nbconvert_exporter": "python",
   "pygments_lexer": "ipython3",
   "version": "3.12.7"
  }
 },
 "nbformat": 4,
 "nbformat_minor": 5
}
